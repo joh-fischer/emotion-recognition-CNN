{
 "cells": [
  {
   "cell_type": "markdown",
   "id": "34a74528",
   "metadata": {},
   "source": [
    "# Model Evaluation\n",
    "**Author**: Johannes S. Fischer"
   ]
  },
  {
   "cell_type": "code",
   "execution_count": 1,
   "id": "45bf0dae",
   "metadata": {},
   "outputs": [],
   "source": [
    "import numpy as np\n",
    "import matplotlib.pyplot as plt\n",
    "import tensorflow as tf\n",
    "from datetime import datetime\n",
    "from sklearn import metrics\n",
    "from tensorflow.keras.preprocessing.image import ImageDataGenerator\n",
    "\n",
    "from model import get_base_model\n",
    "from dataloader import load_FERplus_targetvector, load_RAF_targetvector"
   ]
  },
  {
   "cell_type": "code",
   "execution_count": 2,
   "id": "39024e05",
   "metadata": {},
   "outputs": [],
   "source": [
    "# function to turn imagedatagenerator set into tensors\n",
    "def get_tensors(datagen):\n",
    "    datagen.reset()\n",
    "    \n",
    "    X, Y = [], []\n",
    "    batch_idx = 0\n",
    "    while batch_idx <= datagen.batch_index:\n",
    "        data = datagen.next()\n",
    "        if len(X) == 0:\n",
    "            X.append(data[0])\n",
    "            X = np.array(np.squeeze(X))\n",
    "\n",
    "            Y.append(data[1])\n",
    "            Y = np.array(np.squeeze(Y))\n",
    "        else:\n",
    "            X = np.concatenate((X, data[0]), axis=0)\n",
    "            Y = np.concatenate((Y, data[1]), axis=0)\n",
    "        batch_idx += 1\n",
    "\n",
    "    X = np.asarray(X)\n",
    "    Y = np.asarray(Y)\n",
    "    return X, Y"
   ]
  },
  {
   "cell_type": "markdown",
   "id": "230e38f5",
   "metadata": {},
   "source": [
    "# Load Model"
   ]
  },
  {
   "cell_type": "code",
   "execution_count": 3,
   "id": "d3a70619",
   "metadata": {},
   "outputs": [],
   "source": [
    "def vec2label(onehot_vec, emotion_labels):\n",
    "    major_vote = np.argmax(onehot_vec)\n",
    "    return emotion_labels[major_vote]\n",
    "\n",
    "IMG_SHAPE = (100, 100, 3)\n",
    "\n",
    "models = {\n",
    "    'raf': {\n",
    "        'name': 'RAF'\n",
    "    },\n",
    "    'fer': {\n",
    "        'name': 'FER'\n",
    "    }\n",
    "}"
   ]
  },
  {
   "cell_type": "markdown",
   "id": "4d4817bf",
   "metadata": {},
   "source": [
    "### RAF"
   ]
  },
  {
   "cell_type": "code",
   "execution_count": 4,
   "id": "ddd9e3c3",
   "metadata": {},
   "outputs": [],
   "source": [
    "def preprocess_raf(x):\n",
    "    mean = [146.6770, 114.6274, 102.3102]\n",
    "    std = [67.6282, 61.7651, 61.3665]\n",
    "    # ensure image format\n",
    "    x = np.array(x, dtype='float32')\n",
    "    # normalize\n",
    "    x[..., 0] -= mean[0]\n",
    "    x[..., 1] -= mean[1]\n",
    "    x[..., 2] -= mean[2]\n",
    "    if std is not None:\n",
    "        x[..., 0] /= std[0]\n",
    "        x[..., 1] /= std[1]\n",
    "        x[..., 2] /= std[2] \n",
    "    return x\n",
    "\n",
    "LABELS_RAF = ['surprise', 'fear', 'disgust', 'happiness', 'sadness', 'anger', 'neutral']\n",
    "\n",
    "# model\n",
    "model_name = 'RAF_0124-1008_weights.h5'\n",
    "model_raf = get_base_model(IMG_SHAPE)\n",
    "model_raf.add(tf.keras.layers.Dense(7, activation='softmax', name=\"softmax\"))\n",
    "model_raf.load_weights('./models/' + model_name)\n",
    "\n",
    "model_raf.compile(optimizer=tf.keras.optimizers.Adam(0.01),\n",
    "              loss='categorical_crossentropy',\n",
    "              metrics=['accuracy'])\n",
    "\n",
    "models['raf']['model'] = model_raf\n",
    "models['raf']['labels'] = LABELS_RAF\n",
    "models['raf']['preprocess'] = preprocess_raf"
   ]
  },
  {
   "cell_type": "markdown",
   "id": "df1e8909",
   "metadata": {},
   "source": [
    "### FER+"
   ]
  },
  {
   "cell_type": "code",
   "execution_count": 5,
   "id": "1f6ec24e",
   "metadata": {},
   "outputs": [],
   "source": [
    "# FERplus 2013 preprocessing function\n",
    "def preprocess_fer(x):\n",
    "    mean = [129.4432, 129.4432, 129.4432]\n",
    "    std = [64.87448751, 64.87448751, 64.87448751]\n",
    "    # ensure image format\n",
    "    x = np.array(x, dtype='float32')\n",
    "    \n",
    "    # normalize\n",
    "    x[..., 0] -= mean[0]\n",
    "    x[..., 1] -= mean[1]\n",
    "    x[..., 2] -= mean[2]\n",
    "    if std is not None:\n",
    "        x[..., 0] /= std[0]\n",
    "        x[..., 1] /= std[1]\n",
    "        x[..., 2] /= std[2] \n",
    "    return x\n",
    "\n",
    "LABELS_FER = ['neutral', 'happiness', 'surprise', 'sadness', 'anger', 'disgust', 'fear']\n",
    "\n",
    "# model\n",
    "model_name = 'FERplus_0124-1040_weights.h5'\n",
    "model_fer = get_base_model(IMG_SHAPE)\n",
    "model_fer.add(tf.keras.layers.Dense(7, activation='softmax', name=\"softmax\"))\n",
    "model_fer.load_weights('./models/' + model_name)\n",
    "\n",
    "model_fer.compile(optimizer=tf.keras.optimizers.Adam(0.01),\n",
    "              loss='categorical_crossentropy',\n",
    "              metrics=['accuracy'])\n",
    "\n",
    "models['fer']['model'] = model_fer\n",
    "models['fer']['labels'] = LABELS_FER\n",
    "models['fer']['preprocess'] = preprocess_fer"
   ]
  },
  {
   "cell_type": "markdown",
   "id": "1b9ca5ee",
   "metadata": {},
   "source": [
    "<br></br>\n",
    "\n",
    "----------------"
   ]
  },
  {
   "cell_type": "markdown",
   "id": "de2b849b",
   "metadata": {},
   "source": [
    "# Data"
   ]
  },
  {
   "cell_type": "markdown",
   "id": "e04984d9",
   "metadata": {},
   "source": [
    "### RAF-DB"
   ]
  },
  {
   "cell_type": "code",
   "execution_count": 6,
   "id": "e6d14bd8",
   "metadata": {},
   "outputs": [
    {
     "name": "stdout",
     "output_type": "stream",
     "text": [
      "Splitting test dataset into stratified validation and test set\n",
      "Training\n",
      "- (12271, 100, 100, 3) \n",
      "- (12271, 7)\n",
      "Validation\n",
      "- (1534, 100, 100, 3) \n",
      "- (1534, 7)\n",
      "Testing\n",
      "- (1534, 100, 100, 3) \n",
      "- (1534, 7)\n",
      "Wall time: 12.8 s\n"
     ]
    }
   ],
   "source": [
    "%%time\n",
    "# RAF-DB data\n",
    "train_raf, val_raf, test_raf = load_RAF_targetvector('./data/RAF/',\n",
    "                                                     target_img_size=IMG_SHAPE[:2],\n",
    "                                                     batch_size=64,\n",
    "                                                     preprocessing_function=preprocess_raf)"
   ]
  },
  {
   "cell_type": "markdown",
   "id": "3b8a8f43",
   "metadata": {},
   "source": [
    "### FER+"
   ]
  },
  {
   "cell_type": "code",
   "execution_count": 7,
   "id": "71208a59",
   "metadata": {},
   "outputs": [
    {
     "name": "stdout",
     "output_type": "stream",
     "text": [
      "Training\n",
      "- (28557, 100, 100, 3) \n",
      "- (28557, 7)\n",
      "Validation\n",
      "- (3573, 100, 100, 3) \n",
      "- (3573, 7)\n",
      "Testing\n",
      "- (3579, 100, 100, 3) \n",
      "- (3579, 7)\n",
      "Wall time: 46.7 s\n"
     ]
    }
   ],
   "source": [
    "%%time\n",
    "# FERplus data\n",
    "train_fer, val_fer, test_fer = load_FERplus_targetvector('./data/ferplus2013/',\n",
    "                                                         target_img_size=IMG_SHAPE[:2],\n",
    "                                                         batch_size=64,\n",
    "                                                         preprocessing_function=preprocess_fer)"
   ]
  },
  {
   "cell_type": "markdown",
   "id": "b3ef8545",
   "metadata": {},
   "source": [
    "<br></br>\n",
    "\n",
    "----------------"
   ]
  },
  {
   "cell_type": "markdown",
   "id": "1697dec3",
   "metadata": {},
   "source": [
    "# RAF-DB model"
   ]
  },
  {
   "cell_type": "code",
   "execution_count": 8,
   "id": "a9a251f9",
   "metadata": {},
   "outputs": [],
   "source": [
    "model = models['raf']\n",
    "data_test = test_raf\n",
    "data_val = val_raf"
   ]
  },
  {
   "cell_type": "markdown",
   "id": "5c2ffff0",
   "metadata": {},
   "source": [
    "### Accuracies"
   ]
  },
  {
   "cell_type": "code",
   "execution_count": 9,
   "id": "48781abd",
   "metadata": {},
   "outputs": [
    {
     "name": "stdout",
     "output_type": "stream",
     "text": [
      "Test Accuracy:\t83.44%\n",
      "Metrics:\n",
      "               precision    recall  f1-score   support\n",
      "\n",
      "    surprise       0.92      0.79      0.85       165\n",
      "        fear       0.90      0.51      0.66        37\n",
      "     disgust       0.88      0.35      0.50        80\n",
      "   happiness       0.96      0.89      0.92       592\n",
      "     sadness       0.83      0.82      0.83       239\n",
      "       anger       0.80      0.75      0.78        81\n",
      "     neutral       0.67      0.94      0.78       340\n",
      "\n",
      "    accuracy                           0.83      1534\n",
      "   macro avg       0.85      0.72      0.76      1534\n",
      "weighted avg       0.86      0.83      0.83      1534\n",
      "\n"
     ]
    }
   ],
   "source": [
    "# get tensors of test dataset\n",
    "X, Y = get_tensors(data_test)\n",
    "Y_logits = np.argmax(Y, axis=1)\n",
    "\n",
    "preds = model['model'].predict(X)\n",
    "\n",
    "Yhat = np.argmax(preds, axis=1)\n",
    "\n",
    "print(\"Test Accuracy:\\t{:.2f}%\".format(100*(Y_logits == Yhat).sum() / Yhat.size))\n",
    "print(\"Metrics:\\n\", metrics.classification_report(y_true=Y_logits, y_pred=Yhat, target_names=model['labels']))"
   ]
  },
  {
   "cell_type": "code",
   "execution_count": 10,
   "id": "0401893f",
   "metadata": {},
   "outputs": [
    {
     "name": "stdout",
     "output_type": "stream",
     "text": [
      "24/24 [==============================] - 4s 98ms/step - loss: 0.9037 - accuracy: 0.8227\n",
      "\n",
      "-- Validation RAF\n",
      "Accuracy:\t82.27%\n",
      "Loss:\t\t0.9037\n"
     ]
    }
   ],
   "source": [
    "# validation accuracy\n",
    "model['val'] = {}\n",
    "model['val']['loss'], model['val']['acc'] = model['model'].evaluate(data_val)\n",
    "\n",
    "print(f\"\\n-- Validation {model['name']}\")\n",
    "print(\"Accuracy:\\t%.2f%%\" % (model['val']['acc'] * 100))\n",
    "print(\"Loss:\\t\\t%.4f\" % (model['val']['loss']))"
   ]
  },
  {
   "cell_type": "code",
   "execution_count": 11,
   "id": "eeb68701",
   "metadata": {},
   "outputs": [
    {
     "name": "stdout",
     "output_type": "stream",
     "text": [
      "24/24 [==============================] - 2s 66ms/step - loss: 0.8908 - accuracy: 0.8344 0s - loss: 0.890\n",
      "\n",
      "-- Test RAF\n",
      "Accuracy:\t83.44%\n",
      "Loss:\t\t0.8908\n"
     ]
    }
   ],
   "source": [
    "# test accuracy for RAF-DB model\n",
    "model['test'] = {}\n",
    "model['test']['loss'], model['test']['acc'] = model['model'].evaluate(data_test)\n",
    "\n",
    "print(f\"\\n-- Test {model['name']}\")\n",
    "print(\"Accuracy:\\t%.2f%%\" % (model['test']['acc'] * 100))\n",
    "print(\"Loss:\\t\\t%.4f\" % (model['test']['loss']))"
   ]
  },
  {
   "cell_type": "markdown",
   "id": "633503b3",
   "metadata": {},
   "source": [
    "### Confusion matrix"
   ]
  },
  {
   "cell_type": "code",
   "execution_count": 12,
   "id": "a8033f59",
   "metadata": {},
   "outputs": [
    {
     "data": {
      "image/png": "[encoded data removed]",
      "text/plain": [
       "<Figure size 720x720 with 2 Axes>"
      ]
     },
     "metadata": {
      "needs_background": "light"
     },
     "output_type": "display_data"
    }
   ],
   "source": [
    "conf_matrix = metrics.confusion_matrix(Y_logits, Yhat, normalize='true')\n",
    "disp = metrics.ConfusionMatrixDisplay(conf_matrix*100, display_labels=model['labels'])\n",
    "plt.figure(figsize=(10,10))\n",
    "ax = plt.axes()\n",
    "disp.plot(ax=ax)\n",
    "plt.title(model['name'])\n",
    "plt.savefig('./conf-matrix-{}.png'.format(model['name']), dpi=300, bbox_inches='tight')\n",
    "plt.show()"
   ]
  },
  {
   "cell_type": "markdown",
   "id": "a50fddac",
   "metadata": {},
   "source": [
    "<br></br>\n",
    "\n",
    "----------------"
   ]
  },
  {
   "cell_type": "markdown",
   "id": "c7ee9f5e",
   "metadata": {},
   "source": [
    "# FER+ model"
   ]
  },
  {
   "cell_type": "code",
   "execution_count": 13,
   "id": "537a5451",
   "metadata": {},
   "outputs": [],
   "source": [
    "model = models['fer']\n",
    "data_test = test_fer\n",
    "data_val = val_fer"
   ]
  },
  {
   "cell_type": "markdown",
   "id": "bb434696",
   "metadata": {},
   "source": [
    "### Accuracies"
   ]
  },
  {
   "cell_type": "code",
   "execution_count": 14,
   "id": "a6502a61",
   "metadata": {},
   "outputs": [
    {
     "name": "stdout",
     "output_type": "stream",
     "text": [
      "Test Accuracy:\t83.77%\n",
      "Metrics:\n",
      "               precision    recall  f1-score   support\n",
      "\n",
      "     neutral       0.85      0.86      0.85      1359\n",
      "   happiness       0.90      0.94      0.92       900\n",
      "    surprise       0.85      0.89      0.87       461\n",
      "     sadness       0.70      0.65      0.67       423\n",
      "       anger       0.79      0.78      0.79       322\n",
      "     disgust       0.67      0.31      0.42        39\n",
      "        fear       0.72      0.52      0.60        75\n",
      "\n",
      "    accuracy                           0.84      3579\n",
      "   macro avg       0.78      0.71      0.73      3579\n",
      "weighted avg       0.83      0.84      0.83      3579\n",
      "\n"
     ]
    }
   ],
   "source": [
    "# get tensors of test dataset\n",
    "X, Y = get_tensors(data_test)\n",
    "Y_logits = np.argmax(Y, axis=1)\n",
    "\n",
    "preds = model['model'].predict(X)\n",
    "\n",
    "Yhat = np.argmax(preds, axis=1)\n",
    "\n",
    "print(\"Test Accuracy:\\t{:.2f}%\".format(100*(Y_logits == Yhat).sum() / Yhat.size))\n",
    "print(\"Metrics:\\n\", metrics.classification_report(y_true=Y_logits, y_pred=Yhat, target_names=model['labels']))"
   ]
  },
  {
   "cell_type": "code",
   "execution_count": 15,
   "id": "f5802845",
   "metadata": {},
   "outputs": [
    {
     "name": "stdout",
     "output_type": "stream",
     "text": [
      "56/56 [==============================] - 5s 75ms/step - loss: 0.7637 - accuracy: 0.8421\n",
      "\n",
      "-- Validation FER\n",
      "Accuracy:\t84.21%\n",
      "Loss:\t\t0.7637\n"
     ]
    }
   ],
   "source": [
    "# validation accuracy\n",
    "model['val'] = {}\n",
    "model['val']['loss'], model['val']['acc'] = model['model'].evaluate(data_val)\n",
    "\n",
    "print(f\"\\n-- Validation {model['name']}\")\n",
    "print(\"Accuracy:\\t%.2f%%\" % (model['val']['acc'] * 100))\n",
    "print(\"Loss:\\t\\t%.4f\" % (model['val']['loss']))"
   ]
  },
  {
   "cell_type": "code",
   "execution_count": 16,
   "id": "209ebf6b",
   "metadata": {},
   "outputs": [
    {
     "name": "stdout",
     "output_type": "stream",
     "text": [
      "56/56 [==============================] - 4s 76ms/step - loss: 0.7295 - accuracy: 0.8377 0s - l\n",
      "\n",
      "-- Test FER\n",
      "Accuracy:\t83.77%\n",
      "Loss:\t\t0.7295\n"
     ]
    }
   ],
   "source": [
    "# test accuracy for FERplus model\n",
    "model['test'] = {}\n",
    "model['test']['loss'], model['test']['acc'] = model['model'].evaluate(data_test)\n",
    "\n",
    "print(f\"\\n-- Test {model['name']}\")\n",
    "print(\"Accuracy:\\t%.2f%%\" % (model['test']['acc'] * 100))\n",
    "print(\"Loss:\\t\\t%.4f\" % (model['test']['loss']))"
   ]
  },
  {
   "cell_type": "markdown",
   "id": "9d1d282e",
   "metadata": {},
   "source": [
    "### Confusion matrix"
   ]
  },
  {
   "cell_type": "code",
   "execution_count": 17,
   "id": "cee117b7",
   "metadata": {},
   "outputs": [
    {
     "data": {
      "image/png": "[encoded data removed]",
      "text/plain": [
       "<Figure size 720x720 with 2 Axes>"
      ]
     },
     "metadata": {
      "needs_background": "light"
     },
     "output_type": "display_data"
    }
   ],
   "source": [
    "conf_matrix = metrics.confusion_matrix(Y_logits, Yhat, normalize='true')\n",
    "disp = metrics.ConfusionMatrixDisplay(conf_matrix*100, display_labels=model['labels'])\n",
    "plt.figure(figsize=(10,10))\n",
    "ax = plt.axes()\n",
    "disp.plot(ax=ax)\n",
    "plt.title(model['name'])\n",
    "plt.savefig('./conf-matrix-{}.png'.format(model['name']), dpi=300, bbox_inches='tight')\n",
    "plt.show()"
   ]
  },
  {
   "cell_type": "markdown",
   "id": "cb0e3045",
   "metadata": {},
   "source": [
    "---"
   ]
  }
 ],
 "metadata": {
  "kernelspec": {
   "display_name": "Python 3 (ipykernel)",
   "language": "python",
   "name": "python3"
  },
  "language_info": {
   "codemirror_mode": {
    "name": "ipython",
    "version": 3
   },
   "file_extension": ".py",
   "mimetype": "text/x-python",
   "name": "python",
   "nbconvert_exporter": "python",
   "pygments_lexer": "ipython3",
   "version": "3.9.7"
  }
 },
 "nbformat": 4,
 "nbformat_minor": 5
}
